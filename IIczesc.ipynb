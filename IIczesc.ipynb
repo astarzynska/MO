{
 "cells": [
  {
   "cell_type": "code",
   "execution_count": 1,
   "metadata": {},
   "outputs": [],
   "source": [
    "using Calculus"
   ]
  },
  {
   "cell_type": "code",
   "execution_count": 21,
   "metadata": {},
   "outputs": [
    {
     "data": {
      "text/plain": [
       "5-element Array{Any,1}:\n",
       " [2.0, 4.0]        \n",
       " [234.0, 864.0]    \n",
       " [432.0, 4214.0]   \n",
       " [2561.0, 9854.0]  \n",
       " [24672.0, 46664.0]"
      ]
     },
     "execution_count": 21,
     "metadata": {},
     "output_type": "execute_result"
    }
   ],
   "source": [
    "x0=[]\n",
    "x1=[2.0, 4.0]\n",
    "x2=[234.0, 864.0]\n",
    "x3=[432.0, 4214.0]\n",
    "x4=[2561.0, 9854.0]\n",
    "x5=[24672.0, 46664.0]\n",
    "push!(x0, x1)\n",
    "push!(x0, x2)\n",
    "push!(x0, x3)\n",
    "push!(x0, x4)\n",
    "push!(x0, x5)"
   ]
  },
  {
   "cell_type": "code",
   "execution_count": 22,
   "metadata": {},
   "outputs": [
    {
     "data": {
      "text/plain": [
       "5-element Array{Any,1}:\n",
       " [2.0, 4.0]        \n",
       " [234.0, 864.0]    \n",
       " [432.0, 4214.0]   \n",
       " [2561.0, 9854.0]  \n",
       " [24672.0, 46664.0]"
      ]
     },
     "execution_count": 22,
     "metadata": {},
     "output_type": "execute_result"
    }
   ],
   "source": [
    "x0"
   ]
  },
  {
   "cell_type": "code",
   "execution_count": 6,
   "metadata": {},
   "outputs": [
    {
     "data": {
      "text/plain": [
       "0-element Array{Any,1}"
      ]
     },
     "execution_count": 6,
     "metadata": {},
     "output_type": "execute_result"
    }
   ],
   "source": [
    "li=[]"
   ]
  },
  {
   "cell_type": "code",
   "execution_count": 47,
   "metadata": {},
   "outputs": [
    {
     "data": {
      "text/plain": [
       "newton2 (generic function with 1 method)"
      ]
     },
     "execution_count": 47,
     "metadata": {},
     "output_type": "execute_result"
    }
   ],
   "source": [
    "function newton2(f, x)\n",
    "    H=hessian(f, x)\n",
    "    A=inv(H)\n",
    "    G=Calculus.gradient(f,x)\n",
    "    D=(-1)*A*G\n",
    "    xn=x+D\n",
    "    licz=1\n",
    "    while((abs(x[1]-xn[1]))>1e-20 && (abs(x[2]-xn[2]))>1e-20 && licz<500)\n",
    "        x=xn\n",
    "        H=hessian(f, x)\n",
    "        A=inv(H)\n",
    "        G=Calculus.gradient(f,x)\n",
    "        D=(-1)*A*G\n",
    "        xn=x+D\n",
    "        licz=licz+1\n",
    "    end\n",
    "    println(\"Minimum wynosi \", xn[1], \", \", xn[2])\n",
    "    println(\"Liczba iteracji \", licz)\n",
    "end"
   ]
  },
  {
   "cell_type": "code",
   "execution_count": 33,
   "metadata": {},
   "outputs": [
    {
     "data": {
      "text/plain": [
       "f1 (generic function with 1 method)"
      ]
     },
     "execution_count": 33,
     "metadata": {},
     "output_type": "execute_result"
    }
   ],
   "source": [
    "function f1(x)\n",
    "    return x[1]^2+x[2]^2\n",
    "end"
   ]
  },
  {
   "cell_type": "code",
   "execution_count": 34,
   "metadata": {},
   "outputs": [
    {
     "data": {
      "text/plain": [
       "f2 (generic function with 1 method)"
      ]
     },
     "execution_count": 34,
     "metadata": {},
     "output_type": "execute_result"
    }
   ],
   "source": [
    "function f2(x)\n",
    "    return x[1]^4+x[2]^4\n",
    "end"
   ]
  },
  {
   "cell_type": "code",
   "execution_count": 35,
   "metadata": {},
   "outputs": [
    {
     "data": {
      "text/plain": [
       "f3 (generic function with 1 method)"
      ]
     },
     "execution_count": 35,
     "metadata": {},
     "output_type": "execute_result"
    }
   ],
   "source": [
    "function f3(x)\n",
    "    return x[1]^6+x[2]^6\n",
    "end"
   ]
  },
  {
   "cell_type": "code",
   "execution_count": 36,
   "metadata": {},
   "outputs": [
    {
     "data": {
      "text/plain": [
       "f4 (generic function with 1 method)"
      ]
     },
     "execution_count": 36,
     "metadata": {},
     "output_type": "execute_result"
    }
   ],
   "source": [
    "function f4(x)\n",
    "    return x[1]^8+x[2]^8\n",
    "end"
   ]
  },
  {
   "cell_type": "code",
   "execution_count": 10,
   "metadata": {},
   "outputs": [
    {
     "data": {
      "text/plain": [
       "motyl (generic function with 1 method)"
      ]
     },
     "execution_count": 10,
     "metadata": {},
     "output_type": "execute_result"
    }
   ],
   "source": [
    "function motyl(x)\n",
    "    return 0.26*(x[1]^2+x[2]^2)-0.48*x[1]*x[2]\n",
    "end"
   ]
  },
  {
   "cell_type": "code",
   "execution_count": 11,
   "metadata": {
    "scrolled": true
   },
   "outputs": [
    {
     "data": {
      "text/plain": [
       "booth (generic function with 1 method)"
      ]
     },
     "execution_count": 11,
     "metadata": {},
     "output_type": "execute_result"
    }
   ],
   "source": [
    "function booth(x)\n",
    "    return (x[1]+2*x[2]-7)^2+(2*x[1]+x[2]-5)^2\n",
    "end "
   ]
  },
  {
   "cell_type": "code",
   "execution_count": 17,
   "metadata": {},
   "outputs": [
    {
     "name": "stdout",
     "output_type": "stream",
     "text": [
      "[2.0 4.0]\n",
      "[234.0 864.0]\n",
      "[432.0 4214.0]\n",
      "[2561.0 9854.0]\n",
      "[24672.0 46664.0]\n"
     ]
    }
   ],
   "source": [
    "for i in 1:5\n",
    "    println(x0[i])\n",
    "end"
   ]
  },
  {
   "cell_type": "code",
   "execution_count": 49,
   "metadata": {},
   "outputs": [
    {
     "name": "stdout",
     "output_type": "stream",
     "text": [
      "\n",
      "Paraboloida 2 stopnia (0,0): \n",
      "\n",
      "Dla punktu początkowego: [2.0, 4.0]\n",
      "Minimum wynosi 0.0, -3.768795065229899e-22\n",
      "Liczba iteracji 3\n",
      "Dla punktu początkowego: [234.0, 864.0]\n",
      "Minimum wynosi -1.0914098567467315e-22, 1.2582715929080343e-22\n",
      "Liczba iteracji 4\n",
      "Dla punktu początkowego: [432.0, 4214.0]\n",
      "Minimum wynosi 8.8195507484374e-23, 1.0981377989718718e-22\n",
      "Liczba iteracji 4\n",
      "Dla punktu początkowego: [2561.0, 9854.0]\n",
      "Minimum wynosi -2.3230406229207116e-22, 8.314530832157047e-23\n",
      "Liczba iteracji 4\n",
      "Dla punktu początkowego: [24672.0, 46664.0]\n",
      "Minimum wynosi 1.5828876503026453e-22, 2.7943195067806966e-23\n",
      "Liczba iteracji 4\n",
      "\n",
      "Paraboloida 4 stopnia (0,0): \n",
      "\n",
      "Dla punktu początkowego: [2.0, 4.0]\n",
      "Minimum wynosi 8.370385685191407e-21, 2.674715538347855e-20\n",
      "Liczba iteracji 81\n",
      "Dla punktu początkowego: [234.0, 864.0]\n",
      "Minimum wynosi 6.939764601518382e-21, 6.413243149318338e-20\n",
      "Liczba iteracji 93\n",
      "Dla punktu początkowego: [432.0, 4214.0]\n",
      "Minimum wynosi 1.0023618119474672e-20, 4.823250991034085e-19\n",
      "Liczba iteracji 94\n",
      "Dla punktu początkowego: [2561.0, 9854.0]\n",
      "Minimum wynosi 6.768508796008263e-21, 6.419461251503095e-20\n",
      "Liczba iteracji 99\n",
      "Dla punktu początkowego: [24672.0, 46664.0]\n",
      "Minimum wynosi 9.388430335316438e-21, 2.879874710295677e-20\n",
      "Liczba iteracji 104\n",
      "\n",
      "Paraboloida 6 stopnia (0,0): \n",
      "\n",
      "Dla punktu początkowego: [2.0, 4.0]\n",
      "Minimum wynosi 4.2746157888757194e-20, 8.141788273703262e-20\n",
      "Liczba iteracji 215\n",
      "Dla punktu początkowego: [234.0, 864.0]\n",
      "Minimum wynosi 3.7155981768726164e-20, 1.2543411500176811e-19\n",
      "Liczba iteracji 237\n",
      "Dla punktu początkowego: [432.0, 4214.0]\n",
      "Minimum wynosi 4.28013663121961e-20, 3.617529842971147e-19\n",
      "Liczba iteracji 239\n",
      "Dla punktu początkowego: [2561.0, 9854.0]\n",
      "Minimum wynosi 3.5166548337312485e-20, 1.2314408119884187e-19\n",
      "Liczba iteracji 248\n",
      "Dla punktu początkowego: [24672.0, 46664.0]\n",
      "Minimum wynosi 3.6236223621364096e-20, 6.566084601767982e-20\n",
      "Liczba iteracji 258\n",
      "\n",
      "Paraboloida 8 stopnia (0,0): \n",
      "\n",
      "Dla punktu początkowego: [2.0, 4.0]\n",
      "Minimum wynosi 1.4387973060165864e-17, 1.9232337503341502e-17\n",
      "Liczba iteracji 500\n",
      "Dla punktu początkowego: [234.0, 864.0]\n",
      "Minimum wynosi 1.0566474048488734e-16, 1.8255839280013332e-16\n",
      "Liczba iteracji 500\n",
      "Dla punktu początkowego: [432.0, 4214.0]\n",
      "Minimum wynosi 1.7686715808455485e-16, 3.5442427601653362e-16\n",
      "Liczba iteracji 500\n",
      "Dla punktu początkowego: [2561.0, 9854.0]\n",
      "Minimum wynosi 2.8777908798122446e-16, 5.058000942310374e-16\n",
      "Liczba iteracji 500\n",
      "Dla punktu początkowego: [24672.0, 46664.0]\n",
      "Minimum wynosi 7.427749916513915e-16, 9.699224136605573e-16\n",
      "Liczba iteracji 500\n",
      "\n",
      "Funkcja Booth (1,3): \n",
      "\n",
      "Dla punktu początkowego: [2.0, 4.0]\n",
      "Minimum wynosi 1.0, 3.0\n",
      "Liczba iteracji 3\n",
      "Dla punktu początkowego: [234.0, 864.0]\n",
      "Minimum wynosi 1.0, 3.0\n",
      "Liczba iteracji 7\n",
      "Dla punktu początkowego: [432.0, 4214.0]\n",
      "Minimum wynosi 1.0, 3.0\n",
      "Liczba iteracji 4\n",
      "Dla punktu początkowego: [2561.0, 9854.0]\n",
      "Minimum wynosi 1.0, 3.0\n",
      "Liczba iteracji 4\n",
      "Dla punktu początkowego: [24672.0, 46664.0]\n",
      "Minimum wynosi 1.0, 3.0\n",
      "Liczba iteracji 8\n",
      "\n",
      "Funkcja Matyas (0,0): \n",
      "\n",
      "Dla punktu początkowego: [2.0, 4.0]\n",
      "Minimum wynosi -2.2505402038060764e-21, -1.8161983176392088e-21\n",
      "Liczba iteracji 4\n",
      "Dla punktu początkowego: [234.0, 864.0]\n",
      "Minimum wynosi -9.692466987239242e-22, -1.0685083722302876e-21\n",
      "Liczba iteracji 4\n",
      "Dla punktu początkowego: [432.0, 4214.0]\n",
      "Minimum wynosi -1.6442776313548237e-21, -1.0821096676199556e-21\n",
      "Liczba iteracji 4\n",
      "Dla punktu początkowego: [2561.0, 9854.0]\n",
      "Minimum wynosi 1.958554711337356e-21, 1.9850244909390528e-21\n",
      "Liczba iteracji 5\n",
      "Dla punktu początkowego: [24672.0, 46664.0]\n",
      "Minimum wynosi -3.603893846859473e-21, -3.697167781067791e-21\n",
      "Liczba iteracji 5\n"
     ]
    }
   ],
   "source": [
    "println(\"\")\n",
    "println(\"Paraboloida 2 stopnia (0,0): \")\n",
    "println(\"\")\n",
    "    for i in 1:5\n",
    "        println(\"Dla punktu początkowego: \", x0[i])\n",
    "        newton2(f1, x0[i])\n",
    "    end\n",
    "println(\"\")\n",
    "println(\"Paraboloida 4 stopnia (0,0): \")\n",
    "println(\"\")\n",
    "    for i in 1:5\n",
    "        println(\"Dla punktu początkowego: \", x0[i])\n",
    "        newton2(f2, x0[i])\n",
    "    end\n",
    "println(\"\")\n",
    "println(\"Paraboloida 6 stopnia (0,0): \")\n",
    "println(\"\")\n",
    "    for i in 1:5\n",
    "        println(\"Dla punktu początkowego: \", x0[i])\n",
    "        newton2(f3, x0[i])\n",
    "    end\n",
    "println(\"\")\n",
    "println(\"Paraboloida 8 stopnia (0,0): \")\n",
    "println(\"\")\n",
    "    for i in 1:5\n",
    "        println(\"Dla punktu początkowego: \", x0[i])\n",
    "        newton2(f4, x0[i])\n",
    "    end\n",
    "println(\"\")\n",
    "println(\"Funkcja Booth (1,3): \")\n",
    "println(\"\")\n",
    "    for i in 1:5\n",
    "        println(\"Dla punktu początkowego: \", x0[i])\n",
    "        newton2(booth, x0[i])\n",
    "    end\n",
    "println(\"\")\n",
    "println(\"Funkcja Matyas (0,0): \")\n",
    "println(\"\")\n",
    "    for i in 1:5\n",
    "        println(\"Dla punktu początkowego: \", x0[i])\n",
    "        newton2(motyl, x0[i])\n",
    "    end"
   ]
  },
  {
   "cell_type": "code",
   "execution_count": null,
   "metadata": {},
   "outputs": [],
   "source": [
    "#Wnioski\n",
    "#Im wyzszy stopien paraboloidy tym wiecej iteracji zachodzi\n",
    "#Odleglosc punktu poczatkowego od minimum funkcji nie wplywa znaczaco na ilosc iteracji - przeciwnie niz w przypadku jednowymiarowym\n",
    "#Im wyzszy stopien paraboloidy tym slabsze przyblizenie minimum\n"
   ]
  },
  {
   "cell_type": "code",
   "execution_count": 41,
   "metadata": {},
   "outputs": [
    {
     "data": {
      "text/plain": [
       "5-element Array{Any,1}:\n",
       " [2.0, 4.0, 5.0]            \n",
       " [234.0, 864.0, 143.0]      \n",
       " [432.0, 4214.0, 798.0]     \n",
       " [2561.0, 9854.0, 4586.0]   \n",
       " [24672.0, 46664.0, 35412.0]"
      ]
     },
     "execution_count": 41,
     "metadata": {},
     "output_type": "execute_result"
    }
   ],
   "source": [
    "x00=[]\n",
    "x1=[2.0, 4.0, 5.0]\n",
    "x2=[234.0, 864.0, 143.0]\n",
    "x3=[432.0, 4214.0, 798.0]\n",
    "x4=[2561.0, 9854.0, 4586.0]\n",
    "x5=[24672.0, 46664.0, 35412.0]\n",
    "push!(x00, x1)\n",
    "push!(x00, x2)\n",
    "push!(x00, x3)\n",
    "push!(x00, x4)\n",
    "push!(x00, x5)"
   ]
  },
  {
   "cell_type": "code",
   "execution_count": 42,
   "metadata": {},
   "outputs": [
    {
     "data": {
      "text/plain": [
       "f11 (generic function with 1 method)"
      ]
     },
     "execution_count": 42,
     "metadata": {},
     "output_type": "execute_result"
    }
   ],
   "source": [
    "function f11(x)\n",
    "    return x[1]^2+x[2]^2+x[3]^2\n",
    "end"
   ]
  },
  {
   "cell_type": "code",
   "execution_count": 43,
   "metadata": {},
   "outputs": [
    {
     "data": {
      "text/plain": [
       "f22 (generic function with 1 method)"
      ]
     },
     "execution_count": 43,
     "metadata": {},
     "output_type": "execute_result"
    }
   ],
   "source": [
    "function f22(x)\n",
    "    return x[1]^4+x[2]^4+x[3]^4\n",
    "end"
   ]
  },
  {
   "cell_type": "code",
   "execution_count": 44,
   "metadata": {},
   "outputs": [
    {
     "data": {
      "text/plain": [
       "f33 (generic function with 1 method)"
      ]
     },
     "execution_count": 44,
     "metadata": {},
     "output_type": "execute_result"
    }
   ],
   "source": [
    "function f33(x)\n",
    "    return x[1]^6+x[2]^6+x[3]^6\n",
    "end"
   ]
  },
  {
   "cell_type": "code",
   "execution_count": 45,
   "metadata": {},
   "outputs": [
    {
     "data": {
      "text/plain": [
       "f44 (generic function with 1 method)"
      ]
     },
     "execution_count": 45,
     "metadata": {},
     "output_type": "execute_result"
    }
   ],
   "source": [
    "function f44(x)\n",
    "    return x[1]^8+x[2]^8+x[3]^8\n",
    "end"
   ]
  },
  {
   "cell_type": "code",
   "execution_count": 48,
   "metadata": {},
   "outputs": [
    {
     "name": "stdout",
     "output_type": "stream",
     "text": [
      "\n",
      "Paraboloida 2 stopnia (0,0): \n",
      "\n",
      "Dla punktu początkowego: [2.0, 4.0, 5.0]\n",
      "Minimum wynosi -4.701534407313104e-22, 0.0\n",
      "Liczba iteracji 3\n",
      "Dla punktu początkowego: [234.0, 864.0, 143.0]\n",
      "Minimum wynosi -1.0914098567467315e-22, 1.2582715929080343e-22\n",
      "Liczba iteracji 4\n",
      "Dla punktu początkowego: [432.0, 4214.0, 798.0]\n",
      "Minimum wynosi 8.819560845856987e-23, 1.0981377989718718e-22\n",
      "Liczba iteracji 4\n",
      "Dla punktu początkowego: [2561.0, 9854.0, 4586.0]\n",
      "Minimum wynosi 1.1602944847225148e-22, 3.525009177761987e-23\n",
      "Liczba iteracji 4\n",
      "Dla punktu początkowego: [24672.0, 46664.0, 35412.0]\n",
      "Minimum wynosi 1.5828876503026453e-22, 2.7943195067806966e-23\n",
      "Liczba iteracji 4\n",
      "\n",
      "Paraboloida 4 stopnia (0,0): \n",
      "\n",
      "Dla punktu początkowego: [2.0, 4.0, 5.0]\n",
      "Minimum wynosi 8.45424519187086e-21, 2.6968375059921342e-20\n",
      "Liczba iteracji 81\n",
      "Dla punktu początkowego: [234.0, 864.0, 143.0]\n",
      "Minimum wynosi 7.07014975336562e-21, 6.423495019035167e-20\n",
      "Liczba iteracji 93\n",
      "Dla punktu początkowego: [432.0, 4214.0, 798.0]\n",
      "Minimum wynosi 9.864385851558214e-21, 4.82305195069919e-19\n",
      "Liczba iteracji 94\n",
      "Dla punktu początkowego: [2561.0, 9854.0, 4586.0]\n",
      "Minimum wynosi 6.714239629533926e-21, 6.424789159720694e-20\n",
      "Liczba iteracji 99\n",
      "Dla punktu początkowego: [24672.0, 46664.0, 35412.0]\n",
      "Minimum wynosi 9.690473542082267e-21, 2.878463011490677e-20\n",
      "Liczba iteracji 104\n",
      "\n",
      "Paraboloida 6 stopnia (0,0): \n",
      "\n",
      "Dla punktu początkowego: [2.0, 4.0, 5.0]\n",
      "Minimum wynosi 4.274971425720513e-20, 8.145194296894074e-20\n",
      "Liczba iteracji 215\n",
      "Dla punktu początkowego: [234.0, 864.0, 143.0]\n",
      "Minimum wynosi 3.7073438109283425e-20, 1.2538474265925256e-19\n",
      "Liczba iteracji 237\n",
      "Dla punktu początkowego: [432.0, 4214.0, 798.0]\n",
      "Minimum wynosi 4.279152111352878e-20, 3.617507934877943e-19\n",
      "Liczba iteracji 239\n",
      "Dla punktu początkowego: [2561.0, 9854.0, 4586.0]\n",
      "Minimum wynosi 3.52199175475279e-20, 1.231204971802434e-19\n",
      "Liczba iteracji 248\n",
      "Dla punktu początkowego: [24672.0, 46664.0, 35412.0]\n",
      "Minimum wynosi 3.619587481068706e-20, 6.5548315615269e-20\n",
      "Liczba iteracji 258\n",
      "\n",
      "Paraboloida 8 stopnia (0,0): \n",
      "\n",
      "Dla punktu początkowego: [2.0, 4.0, 5.0]\n",
      "Minimum wynosi 1.4387928138516905e-17, 1.923234498367007e-17\n",
      "Liczba iteracji 500\n",
      "Dla punktu początkowego: [234.0, 864.0, 143.0]\n",
      "Minimum wynosi 1.0566471990386905e-16, 1.825583911457721e-16\n",
      "Liczba iteracji 500\n",
      "Dla punktu początkowego: [432.0, 4214.0, 798.0]\n",
      "Minimum wynosi 1.7686715808455485e-16, 3.544242708844444e-16\n",
      "Liczba iteracji 500\n",
      "Dla punktu początkowego: [2561.0, 9854.0, 4586.0]\n",
      "Minimum wynosi 2.8777908108589857e-16, 5.058000632120421e-16\n",
      "Liczba iteracji 500\n",
      "Dla punktu początkowego: [24672.0, 46664.0, 35412.0]\n",
      "Minimum wynosi 7.427767657708701e-16, 9.699224936103278e-16\n",
      "Liczba iteracji 500\n"
     ]
    }
   ],
   "source": [
    "println(\"\")\n",
    "println(\"Paraboloida 2 stopnia (0,0): \")\n",
    "println(\"\")\n",
    "    for i in 1:5\n",
    "        println(\"Dla punktu początkowego: \", x00[i])\n",
    "        newton2(f11, x00[i])\n",
    "    end\n",
    "println(\"\")\n",
    "println(\"Paraboloida 4 stopnia (0,0): \")\n",
    "println(\"\")\n",
    "    for i in 1:5\n",
    "        println(\"Dla punktu początkowego: \", x00[i])\n",
    "        newton2(f22, x00[i])\n",
    "    end\n",
    "println(\"\")\n",
    "println(\"Paraboloida 6 stopnia (0,0): \")\n",
    "println(\"\")\n",
    "    for i in 1:5\n",
    "        println(\"Dla punktu początkowego: \", x00[i])\n",
    "        newton2(f33, x00[i])\n",
    "    end\n",
    "println(\"\")\n",
    "println(\"Paraboloida 8 stopnia (0,0): \")\n",
    "println(\"\")\n",
    "    for i in 1:5\n",
    "        println(\"Dla punktu początkowego: \", x00[i])\n",
    "        newton2(f44, x00[i])\n",
    "    end"
   ]
  },
  {
   "cell_type": "code",
   "execution_count": null,
   "metadata": {},
   "outputs": [],
   "source": [
    "#Wnioski\n",
    "#Dla funkcji z R3 potwierdzają sie wnioski wyciagniete na podstawie funkcji z R2"
   ]
  }
 ],
 "metadata": {
  "kernelspec": {
   "display_name": "Julia 1.0.3",
   "language": "julia",
   "name": "julia-1.0"
  },
  "language_info": {
   "file_extension": ".jl",
   "mimetype": "application/julia",
   "name": "julia",
   "version": "1.0.3"
  }
 },
 "nbformat": 4,
 "nbformat_minor": 2
}
