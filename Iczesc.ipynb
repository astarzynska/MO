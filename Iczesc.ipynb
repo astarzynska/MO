{
 "cells": [
  {
   "cell_type": "code",
   "execution_count": 1,
   "metadata": {},
   "outputs": [],
   "source": [
    "using Calculus"
   ]
  },
  {
   "cell_type": "code",
   "execution_count": 8,
   "metadata": {},
   "outputs": [
    {
     "data": {
      "text/plain": [
       "0-element Array{Any,1}"
      ]
     },
     "execution_count": 8,
     "metadata": {},
     "output_type": "execute_result"
    }
   ],
   "source": [
    "#wektor przechowujący ilość iteracji\n",
    "li=[]"
   ]
  },
  {
   "cell_type": "code",
   "execution_count": 26,
   "metadata": {},
   "outputs": [
    {
     "data": {
      "text/plain": [
       "newton (generic function with 2 methods)"
      ]
     },
     "execution_count": 26,
     "metadata": {},
     "output_type": "execute_result"
    }
   ],
   "source": [
    "#metoda optymalizacji Newtona dla przypadku jednowymiarowego\n",
    "function newton(f::Function, x::Number, e::AbstractFloat=1e-5)\n",
    "    xnext=x-(derivative(f,x)/second_derivative(f,x)) \n",
    "    licz=1\n",
    "    while((abs(xnext-x)>e) && (licz<500))\n",
    "        x=xnext\n",
    "        xnext=x-(derivative(f,x)/second_derivative(f,x))\n",
    "        licz=licz+1\n",
    "    end\n",
    "    println(\"Minimum wynosi = \", xnext)\n",
    "    push!(li, licz)\n",
    "end"
   ]
  },
  {
   "cell_type": "code",
   "execution_count": 6,
   "metadata": {},
   "outputs": [
    {
     "name": "stdout",
     "output_type": "stream",
     "text": [
      "Any[2.0, 6.0, 12.0, 36.0, 234.0, 783.0, 1564.0, 4473.0, 6092.0, 23874.0]\n"
     ]
    }
   ],
   "source": [
    "#wektor punktów początkowych\n",
    "x=[]\n",
    "x1=2.0\n",
    "x2=6.0\n",
    "x3=12.0\n",
    "x4=36.0\n",
    "x5=234.0\n",
    "x6=783.0\n",
    "x7=1564.0\n",
    "x8=4473.0\n",
    "x9=6092.0\n",
    "x10=23874.0\n",
    "push!(x, x1)\n",
    "push!(x, x2)\n",
    "push!(x, x3)\n",
    "push!(x, x4)\n",
    "push!(x, x5)\n",
    "push!(x, x6)\n",
    "push!(x, x7)\n",
    "push!(x, x8)\n",
    "push!(x, x9)\n",
    "push!(x, x10)\n",
    "println(x)"
   ]
  },
  {
   "cell_type": "code",
   "execution_count": 27,
   "metadata": {},
   "outputs": [
    {
     "name": "stdout",
     "output_type": "stream",
     "text": [
      " \n",
      "Dla funckji x do potegi 2\n",
      " \n",
      "Minimum wynosi = 0.0\n",
      "Dla punktu poczatkowego x0 = 2.0 liczba iteracji wynosi 2\n",
      "Minimum wynosi = 0.0\n",
      "Dla punktu poczatkowego x0 = 6.0 liczba iteracji wynosi 2\n",
      "Minimum wynosi = 8.025079163340664e-23\n",
      "Dla punktu poczatkowego x0 = 12.0 liczba iteracji wynosi 3\n",
      "Minimum wynosi = -1.3023142574914643e-23\n",
      "Dla punktu poczatkowego x0 = 36.0 liczba iteracji wynosi 3\n",
      "Minimum wynosi = -1.3159021059839832e-22\n",
      "Dla punktu poczatkowego x0 = 234.0 liczba iteracji wynosi 3\n",
      "Minimum wynosi = -8.646134918231173e-23\n",
      "Dla punktu poczatkowego x0 = 783.0 liczba iteracji wynosi 3\n",
      "Minimum wynosi = 1.5483820874927106e-23\n",
      "Dla punktu poczatkowego x0 = 1564.0 liczba iteracji wynosi 3\n",
      "Minimum wynosi = -1.0139784730655121e-22\n",
      "Dla punktu poczatkowego x0 = 4473.0 liczba iteracji wynosi 3\n",
      "Minimum wynosi = 2.996778646510361e-23\n",
      "Dla punktu poczatkowego x0 = 6092.0 liczba iteracji wynosi 3\n",
      "Minimum wynosi = -1.2330686071687084e-22\n",
      "Dla punktu poczatkowego x0 = 23874.0 liczba iteracji wynosi 3\n",
      " \n",
      "Dla funckji x do potegi 3\n",
      " \n",
      "Minimum wynosi = 7.0877396494477315e-6\n",
      "Dla punktu poczatkowego x0 = 2.0 liczba iteracji wynosi 18\n",
      "Minimum wynosi = 4.9916420057717914e-6\n",
      "Dla punktu poczatkowego x0 = 6.0 liczba iteracji wynosi 20\n",
      "Minimum wynosi = 4.991640275355354e-6\n",
      "Dla punktu poczatkowego x0 = 12.0 liczba iteracji wynosi 21\n",
      "Minimum wynosi = 8.103048104247518e-6\n",
      "Dla punktu poczatkowego x0 = 36.0 liczba iteracji wynosi 22\n",
      "Minimum wynosi = 6.379489161225818e-6\n",
      "Dla punktu poczatkowego x0 = 234.0 liczba iteracji wynosi 25\n",
      "Minimum wynosi = 5.118107657162869e-6\n",
      "Dla punktu poczatkowego x0 = 783.0 liczba iteracji wynosi 27\n",
      "Minimum wynosi = 5.109695772636762e-6\n",
      "Dla punktu poczatkowego x0 = 1564.0 liczba iteracji wynosi 28\n",
      "Minimum wynosi = 7.836757723191116e-6\n",
      "Dla punktu poczatkowego x0 = 4473.0 liczba iteracji wynosi 29\n",
      "Minimum wynosi = 4.9366427556267126e-6\n",
      "Dla punktu poczatkowego x0 = 6092.0 liczba iteracji wynosi 30\n",
      "Minimum wynosi = 4.805544921533413e-6\n",
      "Dla punktu poczatkowego x0 = 23874.0 liczba iteracji wynosi 32\n",
      " \n",
      "Dla funckji x do potegi 4\n",
      " \n",
      "Minimum wynosi = 1.5340321603125606e-5\n",
      "Dla punktu poczatkowego x0 = 2.0 liczba iteracji wynosi 29\n",
      "Minimum wynosi = 1.356604427549881e-5\n",
      "Dla punktu poczatkowego x0 = 6.0 liczba iteracji wynosi 32\n",
      "Minimum wynosi = 1.8283447294734828e-5\n",
      "Dla punktu poczatkowego x0 = 12.0 liczba iteracji wynosi 33\n",
      "Minimum wynosi = 1.6192100822865885e-5\n",
      "Dla punktu poczatkowego x0 = 36.0 liczba iteracji wynosi 36\n",
      "Minimum wynosi = 1.377195604413459e-5\n",
      "Dla punktu poczatkowego x0 = 234.0 liczba iteracji wynosi 41\n",
      "Minimum wynosi = 1.3648657537388303e-5\n",
      "Dla punktu poczatkowego x0 = 783.0 liczba iteracji wynosi 44\n",
      "Minimum wynosi = 1.836844137402399e-5\n",
      "Dla punktu poczatkowego x0 = 1564.0 liczba iteracji wynosi 45\n",
      "Minimum wynosi = 1.5481636840443688e-5\n",
      "Dla punktu poczatkowego x0 = 4473.0 liczba iteracji wynosi 48\n",
      "Minimum wynosi = 1.40000006469959e-5\n",
      "Dla punktu poczatkowego x0 = 6092.0 liczba iteracji wynosi 49\n",
      "Minimum wynosi = 1.6353522587016457e-5\n",
      "Dla punktu poczatkowego x0 = 23874.0 liczba iteracji wynosi 52\n",
      " \n",
      "Dla funckji x do potegi 5\n",
      " \n",
      "Minimum wynosi = 2.6815510969927756e-5\n",
      "Dla punktu poczatkowego x0 = 2.0 liczba iteracji wynosi 39\n",
      "Minimum wynosi = 2.5453343276241683e-5\n",
      "Dla punktu poczatkowego x0 = 6.0 liczba iteracji wynosi 43\n",
      "Minimum wynosi = 2.863600128826627e-5\n",
      "Dla punktu poczatkowego x0 = 12.0 liczba iteracji wynosi 45\n",
      "Minimum wynosi = 2.718146446753649e-5\n",
      "Dla punktu poczatkowego x0 = 36.0 liczba iteracji wynosi 49\n",
      "Minimum wynosi = 2.358259635562661e-5\n",
      "Dla punktu poczatkowego x0 = 234.0 liczba iteracji wynosi 56\n",
      "Minimum wynosi = 2.4968566689406256e-5\n",
      "Dla punktu poczatkowego x0 = 783.0 liczba iteracji wynosi 60\n",
      "Minimum wynosi = 2.8054820453410617e-5\n",
      "Dla punktu poczatkowego x0 = 1564.0 liczba iteracji wynosi 62\n",
      "Minimum wynosi = 2.5386389555030863e-5\n",
      "Dla punktu poczatkowego x0 = 4473.0 liczba iteracji wynosi 66\n",
      "Minimum wynosi = 2.5931437475314143e-5\n",
      "Dla punktu poczatkowego x0 = 6092.0 liczba iteracji wynosi 67\n",
      "Minimum wynosi = 2.4114922690151812e-5\n",
      "Dla punktu poczatkowego x0 = 23874.0 liczba iteracji wynosi 72\n",
      " \n",
      "Dla funckji x do potegi 6\n",
      " \n",
      "Minimum wynosi = 3.5972199758836893e-5\n",
      "Dla punktu poczatkowego x0 = 2.0 liczba iteracji wynosi 49\n",
      "Minimum wynosi = 3.537162169556425e-5\n",
      "Dla punktu poczatkowego x0 = 6.0 liczba iteracji wynosi 54\n",
      "Minimum wynosi = 3.620712624639118e-5\n",
      "Dla punktu poczatkowego x0 = 12.0 liczba iteracji wynosi 57\n",
      "Minimum wynosi = 3.560249979417213e-5\n",
      "Dla punktu poczatkowego x0 = 36.0 liczba iteracji wynosi 62\n",
      "Minimum wynosi = 3.877614043749317e-5\n",
      "Dla punktu poczatkowego x0 = 234.0 liczba iteracji wynosi 70\n",
      "Minimum wynosi = 3.408130681294389e-5\n",
      "Dla punktu poczatkowego x0 = 783.0 liczba iteracji wynosi 76\n",
      "Minimum wynosi = 3.484160088061251e-5\n",
      "Dla punktu poczatkowego x0 = 1564.0 liczba iteracji wynosi 79\n",
      "Minimum wynosi = 3.2688929762214426e-5\n",
      "Dla punktu poczatkowego x0 = 4473.0 liczba iteracji wynosi 84\n",
      "Minimum wynosi = 3.5564366035313896e-5\n",
      "Dla punktu poczatkowego x0 = 6092.0 liczba iteracji wynosi 85\n",
      "Minimum wynosi = 3.652075439592446e-5\n",
      "Dla punktu poczatkowego x0 = 23874.0 liczba iteracji wynosi 91\n"
     ]
    }
   ],
   "source": [
    "#Porównanie ilości iteracji w zależności od postaci funkcji i punktu początkowego\n",
    "for i in 2:6\n",
    "    println(\" \")\n",
    "    println(\"Dla funckji x do potegi \", i)\n",
    "    println(\" \")\n",
    "    for j in 1:10\n",
    "        newton(x-> x^i, x[j])\n",
    "        println(\"Dla punktu poczatkowego x0 = \", x[j], \" liczba iteracji wynosi \", li[j])\n",
    "    end\n",
    "    li=[]\n",
    "end"
   ]
  },
  {
   "cell_type": "code",
   "execution_count": 13,
   "metadata": {},
   "outputs": [
    {
     "data": {
      "text/plain": [
       "1-element Array{Any,1}:\n",
       " 18"
      ]
     },
     "execution_count": 13,
     "metadata": {},
     "output_type": "execute_result"
    }
   ],
   "source": [
    "#Wnioski\n",
    "#Im bardziej punkt początkowy jest oddalony od minimum funkcji tym więcej iteracji zachodzi\n",
    "#Im wyższy stopień wielomianu badanej funkcji tym więcej iteracji zachodzi\n",
    "#Im wyższy stopień wielomianu badanej funkcji tym większy błąd przybliżenia minimum funkcji"
   ]
  },
  {
   "cell_type": "code",
   "execution_count": 14,
   "metadata": {},
   "outputs": [
    {
     "data": {
      "text/plain": [
       "0-element Array{Any,1}"
      ]
     },
     "execution_count": 14,
     "metadata": {},
     "output_type": "execute_result"
    }
   ],
   "source": []
  },
  {
   "cell_type": "code",
   "execution_count": 15,
   "metadata": {},
   "outputs": [
    {
     "data": {
      "text/plain": [
       "0-element Array{Any,1}"
      ]
     },
     "execution_count": 15,
     "metadata": {},
     "output_type": "execute_result"
    }
   ],
   "source": []
  },
  {
   "cell_type": "code",
   "execution_count": null,
   "metadata": {},
   "outputs": [],
   "source": []
  }
 ],
 "metadata": {
  "kernelspec": {
   "display_name": "Julia 1.0.3",
   "language": "julia",
   "name": "julia-1.0"
  },
  "language_info": {
   "file_extension": ".jl",
   "mimetype": "application/julia",
   "name": "julia",
   "version": "1.0.3"
  }
 },
 "nbformat": 4,
 "nbformat_minor": 2
}
